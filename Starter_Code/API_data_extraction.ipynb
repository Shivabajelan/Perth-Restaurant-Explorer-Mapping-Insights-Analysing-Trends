{
 "cells": [
  {
   "cell_type": "code",
   "execution_count": 8,
   "metadata": {},
   "outputs": [],
   "source": [
    "import pandas as pd\n",
    "import matplotlib as plt\n",
    "import numpy as np\n",
    "from config import api_key\n",
    "import json\n",
    "import requests\n",
    "from pathlib import Path\n",
    "from sqlalchemy import create_engine, MetaData, Table, inspect, select\n",
    "from sqlalchemy.orm import sessionmaker, Session"
   ]
  },
  {
   "cell_type": "code",
   "execution_count": 9,
   "metadata": {},
   "outputs": [
    {
     "name": "stdout",
     "output_type": "stream",
     "text": [
      "https://api.yelp.com/v3/businesses/search\n"
     ]
    }
   ],
   "source": [
    "API_HOST = 'https://api.yelp.com/'\n",
    "SEARCH_PATH = 'v3/businesses/search'\n",
    "url = f\"{API_HOST}{SEARCH_PATH}\"\n",
    "\n",
    "print(url)"
   ]
  },
  {
   "cell_type": "code",
   "execution_count": 16,
   "metadata": {},
   "outputs": [],
   "source": [
    "SEARCH_LIMIT = 50\n",
    "SEARCH_OFFSET = 942\n",
    "total_results = 1000"
   ]
  },
  {
   "cell_type": "code",
   "execution_count": 11,
   "metadata": {},
   "outputs": [],
   "source": [
    "term = \"Restaurants\" \n",
    "location = \"Perth WA\"\n",
    "limit = 50"
   ]
  },
  {
   "cell_type": "code",
   "execution_count": 12,
   "metadata": {},
   "outputs": [
    {
     "name": "stdout",
     "output_type": "stream",
     "text": [
      "{'term': 'Restaurants', 'location': 'Perth+WA', 'limit': 50, 'offset': 0}\n"
     ]
    }
   ],
   "source": [
    "#This cell is pretty much putting the url params into dictionaries so we can save it as a variable as suppose to writing everthing down when we do  \n",
    "# \".get()\"\n",
    "url_params = {'term': term.replace(' ','+'),\n",
    "              'location': location.replace(' ','+'),\n",
    "              'limit': limit,\n",
    "              'offset': SEARCH_OFFSET}\n",
    "\n",
    "print(url_params)"
   ]
  },
  {
   "cell_type": "code",
   "execution_count": 13,
   "metadata": {},
   "outputs": [],
   "source": [
    "# Cell 2: Define helper functions to manage offsets and data saving\n",
    "def get_last_offset(file_path='last_offset.txt'):\n",
    "    try:\n",
    "        with open(file_path, 'r') as file:\n",
    "            return int(file.read())\n",
    "    except FileNotFoundError:\n",
    "        return 0\n",
    "\n",
    "def update_last_offset(offset, file_path='last_offset.txt'):\n",
    "    with open(file_path, 'w') as file:\n",
    "        file.write(str(offset))\n"
   ]
  },
  {
   "cell_type": "code",
   "execution_count": 17,
   "metadata": {},
   "outputs": [
    {
     "name": "stdout",
     "output_type": "stream",
     "text": [
      "{'businesses': [], 'total': 942, 'region': {'center': {'longitude': 115.85932731628418, 'latitude': -31.948957166576726}}}\n",
      "{'error': {'code': 'VALIDATION_ERROR', 'description': 'Too many results requested, limit+offset must be <= 1000.'}}\n",
      "Error: 'businesses' key not found in API response.\n",
      "[Empty DataFrame\n",
      "Columns: []\n",
      "Index: []]\n"
     ]
    }
   ],
   "source": [
    "last_offset = get_last_offset()\n",
    "new_start_offset = last_offset + total_results  # Prepare to update for next run\n",
    "all_data = []\n",
    "\n",
    "for offset in range(SEARCH_OFFSET, total_results, SEARCH_LIMIT):\n",
    "    url_params = {\n",
    "        'term': 'Restaurants'.replace(' ', '+'),\n",
    "        'location': 'Perth WA'.replace(' ', '+'),\n",
    "        'limit': SEARCH_LIMIT,\n",
    "        'offset': offset\n",
    "    }\n",
    "    \n",
    "    url = f'{API_HOST}{SEARCH_PATH}'\n",
    "    headers = {'Authorization': f'Bearer {api_key}'}\n",
    "    \n",
    "    response = requests.get(url, headers=headers, params=url_params)\n",
    "    data = response.json()\n",
    "    print(data)  # Print the entire JSON response for debugging\n",
    "    # print(data.keys())\n",
    "    \n",
    "    if 'businesses' in data:\n",
    "        all_data.append(pd.json_normalize(data[\"businesses\"]))\n",
    "    else:\n",
    "        print(\"Error: 'businesses' key not found in API response.\")\n",
    "    \n",
    "    \n",
    "    # all_data.append(pd.json_normalize(data.get(\"businesses\", [])))\n",
    "print(all_data)"
   ]
  },
  {
   "cell_type": "code",
   "execution_count": 15,
   "metadata": {},
   "outputs": [
    {
     "name": "stdout",
     "output_type": "stream",
     "text": [
      "Data exported to yelp_data.csv. Total businesses fetched: 942.\n"
     ]
    }
   ],
   "source": [
    "# Process the fetched data as needed\n",
    "combined_data = pd.concat(all_data, ignore_index=True)\n",
    "\n",
    "file_name = 'yelp_data.csv'\n",
    "file_path = Path(file_name)\n",
    "\n",
    "# Check if the Excel file exists and append or write new data\n",
    "if file_path.is_file():\n",
    "    existing_data = pd.read_csv(file_path)\n",
    "    updated_data = pd.concat([existing_data, combined_data], ignore_index=True)\n",
    "else:\n",
    "    updated_data = combined_data\n",
    "\n",
    "# Export the updated data to Excel\n",
    "updated_data.to_csv(file_name, index=False)\n",
    "\n",
    "# Update the last offset used for the next run\n",
    "update_last_offset(new_start_offset)\n",
    "\n",
    "print(f\"Data exported to {file_name}. Total businesses fetched: {len(combined_data)}.\")\n"
   ]
  },
  {
   "cell_type": "code",
   "execution_count": null,
   "metadata": {},
   "outputs": [],
   "source": [
    "import sqlite3\n",
    "\n",
    "# Assuming this function exists\n",
    "def get_last_offset():\n",
    "    # Logic to fetch last_offset from somewhere\n",
    "    return 0  # Returning a default value for now\n",
    "\n",
    "# Assuming this variable exists\n",
    "json_data = {}  # Simulated data\n",
    "\n",
    "last_offset = get_last_offset()\n",
    "if last_offset is not None:\n",
    "    new_start_offset = last_offset + total_results  # Prepare to update for next run\n",
    "    all_data = []\n",
    "\n",
    "    for offset in range(last_offset, last_offset + total_results, 50):\n",
    "        data = json_data  # Simulating API response for the sake of example\n",
    "        all_data.append(data)\n",
    "\n",
    "    # Create SQLite database connection\n",
    "    conn = sqlite3.connect('yelp_data.db')\n",
    "    cur = conn.cursor()\n",
    "\n",
    "    try:\n",
    "        # Create table if not exists\n",
    "        cur.execute('''CREATE TABLE IF NOT EXISTS yelp_data (\n",
    "                       id TEXT PRIMARY KEY,\n",
    "                       alias TEXT,\n",
    "                       name TEXT,\n",
    "                       image_url TEXT,\n",
    "                       is_closed TEXT,\n",
    "                       url TEXT,\n",
    "                       review_count INTEGER,\n",
    "                       categories TEXT,\n",
    "                       rating REAL,\n",
    "                       transactions TEXT,\n",
    "                       price VARCHAR,\n",
    "                       phone TEXT,\n",
    "                       display_phone TEXT,\n",
    "                       distance REAL,\n",
    "                       latitude REAL,\n",
    "                       longitude REAL,\n",
    "                       address1 TEXT,\n",
    "                       address2 TEXT,\n",
    "                       address3 TEXT,\n",
    "                       city TEXT,\n",
    "                       zip_code TEXT,\n",
    "                       country TEXT,\n",
    "                       state TEXT,\n",
    "                       display_address TEXT\n",
    "                       )''')\n",
    "\n",
    "        # Insert data into the database\n",
    "        for data in all_data:\n",
    "            for business in data.get('businesses', []):\n",
    "                cur.execute('''INSERT OR REPLACE INTO yelp_data \n",
    "                               (id, alias, name, image_url, is_closed, url, review_count, categories, rating, \n",
    "                               transactions, price, phone, display_phone, distance, latitude, longitude, \n",
    "                               address1, address2, address3, city, zip_code, country, state, display_address) \n",
    "                               VALUES (?, ?, ?, ?, ?, ?, ?, ?, ?, ?, ?, ?, ?, ?, ?, ?, ?, ?, ?, ?, ?, ?, ?, ?, ?)''',\n",
    "                            (business['id'], business['alias'], business['name'], business['image_url'], \n",
    "                             str(business['is_closed']), business['url'], business['review_count'], \n",
    "                             str(business['categories']), business['rating'], str(business['transactions']), \n",
    "                             business['price'], business['phone'], business['display_phone'], \n",
    "                             business.get('distance', None), business['coordinates']['latitude'], \n",
    "                             business['coordinates']['longitude'], business['location']['address1'], \n",
    "                             business['location'].get('address2', None), business['location'].get('address3', None), \n",
    "                             business['location']['city'], business['location']['zip_code'], \n",
    "                             business['location']['country'], business['location']['state'], \n",
    "                             str(business['location']['display_address'])\n",
    "                            ))\n",
    "\n",
    "        # Commit changes\n",
    "        conn.commit()\n",
    "        print(\"Data exported to SQLite database.\")\n",
    "    except Exception as e:\n",
    "        print(f\"An error occurred: {str(e)}\")\n",
    "    finally:\n",
    "        # Close the cursor and connection\n",
    "        cur.close()\n",
    "        conn.close()\n",
    "else:\n",
    "    print(\"Failed to retrieve last offset. Aborting.\")\n"
   ]
  }
 ],
 "metadata": {
  "kernelspec": {
   "display_name": "base",
   "language": "python",
   "name": "python3"
  },
  "language_info": {
   "codemirror_mode": {
    "name": "ipython",
    "version": 3
   },
   "file_extension": ".py",
   "mimetype": "text/x-python",
   "name": "python",
   "nbconvert_exporter": "python",
   "pygments_lexer": "ipython3",
   "version": "3.11.5"
  }
 },
 "nbformat": 4,
 "nbformat_minor": 2
}
